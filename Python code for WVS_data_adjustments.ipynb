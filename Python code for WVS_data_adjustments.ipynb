{
 "cells": [
  {
   "cell_type": "code",
   "execution_count": 2,
   "id": "e793d373-434d-4de9-a7c9-f55ad35cb9e7",
   "metadata": {},
   "outputs": [
    {
     "name": "stdout",
     "output_type": "stream",
     "text": [
      "Requirement already satisfied: numpy in c:\\users\\lenovo\\anaconda3\\lib\\site-packages (1.26.4)\n",
      "Requirement already satisfied: pandas in c:\\users\\lenovo\\anaconda3\\lib\\site-packages (2.1.4)\n",
      "Requirement already satisfied: seaborn in c:\\users\\lenovo\\anaconda3\\lib\\site-packages (0.12.2)\n",
      "Requirement already satisfied: statsmodels in c:\\users\\lenovo\\anaconda3\\lib\\site-packages (0.14.0)\n",
      "Requirement already satisfied: matplotlib in c:\\users\\lenovo\\anaconda3\\lib\\site-packages (3.8.0)\n",
      "Requirement already satisfied: pyreadr in c:\\users\\lenovo\\anaconda3\\lib\\site-packages (0.5.0)\n",
      "Requirement already satisfied: requests in c:\\users\\lenovo\\anaconda3\\lib\\site-packages (2.31.0)\n",
      "Requirement already satisfied: rdata in c:\\users\\lenovo\\anaconda3\\lib\\site-packages (0.11.2)\n",
      "Requirement already satisfied: python-dateutil>=2.8.2 in c:\\users\\lenovo\\anaconda3\\lib\\site-packages (from pandas) (2.8.2)\n",
      "Requirement already satisfied: pytz>=2020.1 in c:\\users\\lenovo\\anaconda3\\lib\\site-packages (from pandas) (2023.3.post1)\n",
      "Requirement already satisfied: tzdata>=2022.1 in c:\\users\\lenovo\\anaconda3\\lib\\site-packages (from pandas) (2023.3)\n",
      "Requirement already satisfied: scipy!=1.9.2,>=1.4 in c:\\users\\lenovo\\anaconda3\\lib\\site-packages (from statsmodels) (1.11.4)\n",
      "Requirement already satisfied: patsy>=0.5.2 in c:\\users\\lenovo\\anaconda3\\lib\\site-packages (from statsmodels) (0.5.3)\n",
      "Requirement already satisfied: packaging>=21.3 in c:\\users\\lenovo\\anaconda3\\lib\\site-packages (from statsmodels) (23.1)\n",
      "Requirement already satisfied: contourpy>=1.0.1 in c:\\users\\lenovo\\anaconda3\\lib\\site-packages (from matplotlib) (1.2.0)\n",
      "Requirement already satisfied: cycler>=0.10 in c:\\users\\lenovo\\anaconda3\\lib\\site-packages (from matplotlib) (0.11.0)\n",
      "Requirement already satisfied: fonttools>=4.22.0 in c:\\users\\lenovo\\anaconda3\\lib\\site-packages (from matplotlib) (4.25.0)\n",
      "Requirement already satisfied: kiwisolver>=1.0.1 in c:\\users\\lenovo\\anaconda3\\lib\\site-packages (from matplotlib) (1.4.4)\n",
      "Requirement already satisfied: pillow>=6.2.0 in c:\\users\\lenovo\\anaconda3\\lib\\site-packages (from matplotlib) (10.2.0)\n",
      "Requirement already satisfied: pyparsing>=2.3.1 in c:\\users\\lenovo\\anaconda3\\lib\\site-packages (from matplotlib) (3.0.9)\n",
      "Requirement already satisfied: charset-normalizer<4,>=2 in c:\\users\\lenovo\\anaconda3\\lib\\site-packages (from requests) (2.0.4)\n",
      "Requirement already satisfied: idna<4,>=2.5 in c:\\users\\lenovo\\anaconda3\\lib\\site-packages (from requests) (3.4)\n",
      "Requirement already satisfied: urllib3<3,>=1.21.1 in c:\\users\\lenovo\\anaconda3\\lib\\site-packages (from requests) (2.0.7)\n",
      "Requirement already satisfied: certifi>=2017.4.17 in c:\\users\\lenovo\\anaconda3\\lib\\site-packages (from requests) (2024.6.2)\n",
      "Requirement already satisfied: xarray in c:\\users\\lenovo\\anaconda3\\lib\\site-packages (from rdata) (2023.6.0)\n",
      "Requirement already satisfied: typing-extensions>4.4 in c:\\users\\lenovo\\anaconda3\\lib\\site-packages (from rdata) (4.9.0)\n",
      "Requirement already satisfied: six in c:\\users\\lenovo\\anaconda3\\lib\\site-packages (from patsy>=0.5.2->statsmodels) (1.16.0)\n"
     ]
    }
   ],
   "source": [
    "##Part 1 Installl ibararies \n",
    "#Run the following line if any of the following libraries are not installed\n",
    "!pip install pandas"
   ]
  },
  {
   "cell_type": "code",
   "execution_count": 5,
   "id": "87e36ef5-a716-468a-b2ec-5c7976ac1fbc",
   "metadata": {},
   "outputs": [],
   "source": [
    "#Part 2: loading necessary packages\n",
    "import pandas as pd"
   ]
  },
  {
   "cell_type": "code",
   "execution_count": 19,
   "id": "a3c685e3-e09a-422c-b159-12b30990e523",
   "metadata": {},
   "outputs": [
    {
     "ename": "MemoryError",
     "evalue": "Unable to allocate 29.0 MiB for an array with shape (38, 100000) and data type float64",
     "output_type": "error",
     "traceback": [
      "\u001b[1;31m---------------------------------------------------------------------------\u001b[0m",
      "\u001b[1;31mMemoryError\u001b[0m                               Traceback (most recent call last)",
      "Cell \u001b[1;32mIn[19], line 13\u001b[0m\n\u001b[0;32m     10\u001b[0m chunks \u001b[38;5;241m=\u001b[39m []\n\u001b[0;32m     12\u001b[0m \u001b[38;5;66;03m# Read the file in chunks\u001b[39;00m\n\u001b[1;32m---> 13\u001b[0m \u001b[38;5;28;01mfor\u001b[39;00m chunk \u001b[38;5;129;01min\u001b[39;00m pd\u001b[38;5;241m.\u001b[39mread_csv(file_path, chunksize\u001b[38;5;241m=\u001b[39mchunk_size):\n\u001b[0;32m     14\u001b[0m     \u001b[38;5;66;03m# Process each chunk \u001b[39;00m\n\u001b[0;32m     15\u001b[0m     \u001b[38;5;28mprint\u001b[39m(\u001b[38;5;124mf\u001b[39m\u001b[38;5;124m\"\u001b[39m\u001b[38;5;124mProcessing chunk with \u001b[39m\u001b[38;5;132;01m{\u001b[39;00m\u001b[38;5;28mlen\u001b[39m(chunk)\u001b[38;5;132;01m}\u001b[39;00m\u001b[38;5;124m rows\u001b[39m\u001b[38;5;124m\"\u001b[39m)\n\u001b[0;32m     16\u001b[0m     chunks\u001b[38;5;241m.\u001b[39mappend(chunk)\n",
      "File \u001b[1;32m~\\anaconda3\\Lib\\site-packages\\pandas\\io\\parsers\\readers.py:1668\u001b[0m, in \u001b[0;36mTextFileReader.__next__\u001b[1;34m(self)\u001b[0m\n\u001b[0;32m   1666\u001b[0m \u001b[38;5;28;01mdef\u001b[39;00m \u001b[38;5;21m__next__\u001b[39m(\u001b[38;5;28mself\u001b[39m) \u001b[38;5;241m-\u001b[39m\u001b[38;5;241m>\u001b[39m DataFrame:\n\u001b[0;32m   1667\u001b[0m     \u001b[38;5;28;01mtry\u001b[39;00m:\n\u001b[1;32m-> 1668\u001b[0m         \u001b[38;5;28;01mreturn\u001b[39;00m \u001b[38;5;28mself\u001b[39m\u001b[38;5;241m.\u001b[39mget_chunk()\n\u001b[0;32m   1669\u001b[0m     \u001b[38;5;28;01mexcept\u001b[39;00m \u001b[38;5;167;01mStopIteration\u001b[39;00m:\n\u001b[0;32m   1670\u001b[0m         \u001b[38;5;28mself\u001b[39m\u001b[38;5;241m.\u001b[39mclose()\n",
      "File \u001b[1;32m~\\anaconda3\\Lib\\site-packages\\pandas\\io\\parsers\\readers.py:1777\u001b[0m, in \u001b[0;36mTextFileReader.get_chunk\u001b[1;34m(self, size)\u001b[0m\n\u001b[0;32m   1775\u001b[0m         \u001b[38;5;28;01mraise\u001b[39;00m \u001b[38;5;167;01mStopIteration\u001b[39;00m\n\u001b[0;32m   1776\u001b[0m     size \u001b[38;5;241m=\u001b[39m \u001b[38;5;28mmin\u001b[39m(size, \u001b[38;5;28mself\u001b[39m\u001b[38;5;241m.\u001b[39mnrows \u001b[38;5;241m-\u001b[39m \u001b[38;5;28mself\u001b[39m\u001b[38;5;241m.\u001b[39m_currow)\n\u001b[1;32m-> 1777\u001b[0m \u001b[38;5;28;01mreturn\u001b[39;00m \u001b[38;5;28mself\u001b[39m\u001b[38;5;241m.\u001b[39mread(nrows\u001b[38;5;241m=\u001b[39msize)\n",
      "File \u001b[1;32m~\\anaconda3\\Lib\\site-packages\\pandas\\io\\parsers\\readers.py:1765\u001b[0m, in \u001b[0;36mTextFileReader.read\u001b[1;34m(self, nrows)\u001b[0m\n\u001b[0;32m   1762\u001b[0m     \u001b[38;5;28;01melse\u001b[39;00m:\n\u001b[0;32m   1763\u001b[0m         new_rows \u001b[38;5;241m=\u001b[39m \u001b[38;5;28mlen\u001b[39m(index)\n\u001b[1;32m-> 1765\u001b[0m     df \u001b[38;5;241m=\u001b[39m DataFrame(col_dict, columns\u001b[38;5;241m=\u001b[39mcolumns, index\u001b[38;5;241m=\u001b[39mindex)\n\u001b[0;32m   1767\u001b[0m     \u001b[38;5;28mself\u001b[39m\u001b[38;5;241m.\u001b[39m_currow \u001b[38;5;241m+\u001b[39m\u001b[38;5;241m=\u001b[39m new_rows\n\u001b[0;32m   1768\u001b[0m \u001b[38;5;28;01mreturn\u001b[39;00m df\n",
      "File \u001b[1;32m~\\anaconda3\\Lib\\site-packages\\pandas\\core\\frame.py:733\u001b[0m, in \u001b[0;36mDataFrame.__init__\u001b[1;34m(self, data, index, columns, dtype, copy)\u001b[0m\n\u001b[0;32m    727\u001b[0m     mgr \u001b[38;5;241m=\u001b[39m \u001b[38;5;28mself\u001b[39m\u001b[38;5;241m.\u001b[39m_init_mgr(\n\u001b[0;32m    728\u001b[0m         data, axes\u001b[38;5;241m=\u001b[39m{\u001b[38;5;124m\"\u001b[39m\u001b[38;5;124mindex\u001b[39m\u001b[38;5;124m\"\u001b[39m: index, \u001b[38;5;124m\"\u001b[39m\u001b[38;5;124mcolumns\u001b[39m\u001b[38;5;124m\"\u001b[39m: columns}, dtype\u001b[38;5;241m=\u001b[39mdtype, copy\u001b[38;5;241m=\u001b[39mcopy\n\u001b[0;32m    729\u001b[0m     )\n\u001b[0;32m    731\u001b[0m \u001b[38;5;28;01melif\u001b[39;00m \u001b[38;5;28misinstance\u001b[39m(data, \u001b[38;5;28mdict\u001b[39m):\n\u001b[0;32m    732\u001b[0m     \u001b[38;5;66;03m# GH#38939 de facto copy defaults to False only in non-dict cases\u001b[39;00m\n\u001b[1;32m--> 733\u001b[0m     mgr \u001b[38;5;241m=\u001b[39m dict_to_mgr(data, index, columns, dtype\u001b[38;5;241m=\u001b[39mdtype, copy\u001b[38;5;241m=\u001b[39mcopy, typ\u001b[38;5;241m=\u001b[39mmanager)\n\u001b[0;32m    734\u001b[0m \u001b[38;5;28;01melif\u001b[39;00m \u001b[38;5;28misinstance\u001b[39m(data, ma\u001b[38;5;241m.\u001b[39mMaskedArray):\n\u001b[0;32m    735\u001b[0m     \u001b[38;5;28;01mfrom\u001b[39;00m \u001b[38;5;21;01mnumpy\u001b[39;00m\u001b[38;5;21;01m.\u001b[39;00m\u001b[38;5;21;01mma\u001b[39;00m \u001b[38;5;28;01mimport\u001b[39;00m mrecords\n",
      "File \u001b[1;32m~\\anaconda3\\Lib\\site-packages\\pandas\\core\\internals\\construction.py:503\u001b[0m, in \u001b[0;36mdict_to_mgr\u001b[1;34m(data, index, columns, dtype, typ, copy)\u001b[0m\n\u001b[0;32m    499\u001b[0m     \u001b[38;5;28;01melse\u001b[39;00m:\n\u001b[0;32m    500\u001b[0m         \u001b[38;5;66;03m# dtype check to exclude e.g. range objects, scalars\u001b[39;00m\n\u001b[0;32m    501\u001b[0m         arrays \u001b[38;5;241m=\u001b[39m [x\u001b[38;5;241m.\u001b[39mcopy() \u001b[38;5;28;01mif\u001b[39;00m \u001b[38;5;28mhasattr\u001b[39m(x, \u001b[38;5;124m\"\u001b[39m\u001b[38;5;124mdtype\u001b[39m\u001b[38;5;124m\"\u001b[39m) \u001b[38;5;28;01melse\u001b[39;00m x \u001b[38;5;28;01mfor\u001b[39;00m x \u001b[38;5;129;01min\u001b[39;00m arrays]\n\u001b[1;32m--> 503\u001b[0m \u001b[38;5;28;01mreturn\u001b[39;00m arrays_to_mgr(arrays, columns, index, dtype\u001b[38;5;241m=\u001b[39mdtype, typ\u001b[38;5;241m=\u001b[39mtyp, consolidate\u001b[38;5;241m=\u001b[39mcopy)\n",
      "File \u001b[1;32m~\\anaconda3\\Lib\\site-packages\\pandas\\core\\internals\\construction.py:152\u001b[0m, in \u001b[0;36marrays_to_mgr\u001b[1;34m(arrays, columns, index, dtype, verify_integrity, typ, consolidate)\u001b[0m\n\u001b[0;32m    149\u001b[0m axes \u001b[38;5;241m=\u001b[39m [columns, index]\n\u001b[0;32m    151\u001b[0m \u001b[38;5;28;01mif\u001b[39;00m typ \u001b[38;5;241m==\u001b[39m \u001b[38;5;124m\"\u001b[39m\u001b[38;5;124mblock\u001b[39m\u001b[38;5;124m\"\u001b[39m:\n\u001b[1;32m--> 152\u001b[0m     \u001b[38;5;28;01mreturn\u001b[39;00m create_block_manager_from_column_arrays(\n\u001b[0;32m    153\u001b[0m         arrays, axes, consolidate\u001b[38;5;241m=\u001b[39mconsolidate, refs\u001b[38;5;241m=\u001b[39mrefs\n\u001b[0;32m    154\u001b[0m     )\n\u001b[0;32m    155\u001b[0m \u001b[38;5;28;01melif\u001b[39;00m typ \u001b[38;5;241m==\u001b[39m \u001b[38;5;124m\"\u001b[39m\u001b[38;5;124marray\u001b[39m\u001b[38;5;124m\"\u001b[39m:\n\u001b[0;32m    156\u001b[0m     \u001b[38;5;28;01mreturn\u001b[39;00m ArrayManager(arrays, [index, columns])\n",
      "File \u001b[1;32m~\\anaconda3\\Lib\\site-packages\\pandas\\core\\internals\\managers.py:2086\u001b[0m, in \u001b[0;36mcreate_block_manager_from_column_arrays\u001b[1;34m(arrays, axes, consolidate, refs)\u001b[0m\n\u001b[0;32m   2068\u001b[0m \u001b[38;5;28;01mdef\u001b[39;00m \u001b[38;5;21mcreate_block_manager_from_column_arrays\u001b[39m(\n\u001b[0;32m   2069\u001b[0m     arrays: \u001b[38;5;28mlist\u001b[39m[ArrayLike],\n\u001b[0;32m   2070\u001b[0m     axes: \u001b[38;5;28mlist\u001b[39m[Index],\n\u001b[1;32m   (...)\u001b[0m\n\u001b[0;32m   2082\u001b[0m     \u001b[38;5;66;03m# These last three are sufficient to allow us to safely pass\u001b[39;00m\n\u001b[0;32m   2083\u001b[0m     \u001b[38;5;66;03m#  verify_integrity=False below.\u001b[39;00m\n\u001b[0;32m   2085\u001b[0m     \u001b[38;5;28;01mtry\u001b[39;00m:\n\u001b[1;32m-> 2086\u001b[0m         blocks \u001b[38;5;241m=\u001b[39m _form_blocks(arrays, consolidate, refs)\n\u001b[0;32m   2087\u001b[0m         mgr \u001b[38;5;241m=\u001b[39m BlockManager(blocks, axes, verify_integrity\u001b[38;5;241m=\u001b[39m\u001b[38;5;28;01mFalse\u001b[39;00m)\n\u001b[0;32m   2088\u001b[0m     \u001b[38;5;28;01mexcept\u001b[39;00m \u001b[38;5;167;01mValueError\u001b[39;00m \u001b[38;5;28;01mas\u001b[39;00m e:\n",
      "File \u001b[1;32m~\\anaconda3\\Lib\\site-packages\\pandas\\core\\internals\\managers.py:2160\u001b[0m, in \u001b[0;36m_form_blocks\u001b[1;34m(arrays, consolidate, refs)\u001b[0m\n\u001b[0;32m   2157\u001b[0m \u001b[38;5;28;01mif\u001b[39;00m \u001b[38;5;28missubclass\u001b[39m(dtype\u001b[38;5;241m.\u001b[39mtype, (\u001b[38;5;28mstr\u001b[39m, \u001b[38;5;28mbytes\u001b[39m)):\n\u001b[0;32m   2158\u001b[0m     dtype \u001b[38;5;241m=\u001b[39m np\u001b[38;5;241m.\u001b[39mdtype(\u001b[38;5;28mobject\u001b[39m)\n\u001b[1;32m-> 2160\u001b[0m values, placement \u001b[38;5;241m=\u001b[39m _stack_arrays(\u001b[38;5;28mlist\u001b[39m(tup_block), dtype)\n\u001b[0;32m   2161\u001b[0m \u001b[38;5;28;01mif\u001b[39;00m is_dtlike:\n\u001b[0;32m   2162\u001b[0m     values \u001b[38;5;241m=\u001b[39m ensure_wrapped_if_datetimelike(values)\n",
      "File \u001b[1;32m~\\anaconda3\\Lib\\site-packages\\pandas\\core\\internals\\managers.py:2200\u001b[0m, in \u001b[0;36m_stack_arrays\u001b[1;34m(tuples, dtype)\u001b[0m\n\u001b[0;32m   2197\u001b[0m first \u001b[38;5;241m=\u001b[39m arrays[\u001b[38;5;241m0\u001b[39m]\n\u001b[0;32m   2198\u001b[0m shape \u001b[38;5;241m=\u001b[39m (\u001b[38;5;28mlen\u001b[39m(arrays),) \u001b[38;5;241m+\u001b[39m first\u001b[38;5;241m.\u001b[39mshape\n\u001b[1;32m-> 2200\u001b[0m stacked \u001b[38;5;241m=\u001b[39m np\u001b[38;5;241m.\u001b[39mempty(shape, dtype\u001b[38;5;241m=\u001b[39mdtype)\n\u001b[0;32m   2201\u001b[0m \u001b[38;5;28;01mfor\u001b[39;00m i, arr \u001b[38;5;129;01min\u001b[39;00m \u001b[38;5;28menumerate\u001b[39m(arrays):\n\u001b[0;32m   2202\u001b[0m     stacked[i] \u001b[38;5;241m=\u001b[39m arr\n",
      "\u001b[1;31mMemoryError\u001b[0m: Unable to allocate 29.0 MiB for an array with shape (38, 100000) and data type float64"
     ]
    }
   ],
   "source": [
    "#Part 3: Loading the data\n",
    "\n",
    "# Path to the large file\n",
    "file_path = r\"C:\\Users\\Lenovo\\Downloads\\F00011931-WVS_Time_Series_1981-2022_csv_v5_0\\WVS_Time_Series_1981-2022_csv_v5_0.csv\"\n",
    "\n",
    "# Define the chunk size \n",
    "chunk_size = 100000\n",
    "\n",
    "# Create an empty list to store chunks\n",
    "chunks = []\n",
    "\n",
    "# Read the file in chunks\n",
    "for chunk in pd.read_csv(file_path, chunksize=chunk_size):\n",
    "    # Process each chunk \n",
    "    print(f\"Processing chunk with {len(chunk)} rows\")\n",
    "    chunks.append(chunk)\n",
    "\n",
    "# Combine all chunks into a single DataFrame (optional)\n",
    "data = pd.concat(chunks, axis=0)"
   ]
  },
  {
   "cell_type": "code",
   "execution_count": 23,
   "id": "a51bea62-f807-450b-b080-f48adb9ba4a3",
   "metadata": {},
   "outputs": [
    {
     "name": "stdout",
     "output_type": "stream",
     "text": [
      "Index(['version', 'doi', 'S001', 'S002VS', 'S003', 'COUNTRY_ALPHA', 'COW_NUM',\n",
      "       'COW_ALPHA', 'S004', 'S006',\n",
      "       ...\n",
      "       'Y023A', 'Y023B', 'Y023C', 'Y024A', 'Y024B', 'Y024C', 'survself',\n",
      "       'tradrat5', 'TradAgg', 'SurvSAgg'],\n",
      "      dtype='object', length=1046)\n",
      "<class 'pandas.core.frame.DataFrame'>\n",
      "RangeIndex: 443488 entries, 0 to 443487\n",
      "Columns: 1046 entries, version to SurvSAgg\n",
      "dtypes: float64(42), int64(1000), object(4)\n",
      "memory usage: 3.5+ GB\n",
      "None\n",
      "              version                        doi  S001  S002VS  S003  \\\n",
      "0  5-0-0 (2024-04-30)  doi.org/10.14281/18241.25     2       3     8   \n",
      "1  5-0-0 (2024-04-30)  doi.org/10.14281/18241.25     2       3     8   \n",
      "2  5-0-0 (2024-04-30)  doi.org/10.14281/18241.25     2       3     8   \n",
      "3  5-0-0 (2024-04-30)  doi.org/10.14281/18241.25     2       3     8   \n",
      "4  5-0-0 (2024-04-30)  doi.org/10.14281/18241.25     2       3     8   \n",
      "\n",
      "  COUNTRY_ALPHA  COW_NUM COW_ALPHA  S004  S006  ...     Y023A     Y023B  \\\n",
      "0           ALB      339       ALB     1     1  ...  0.000000  0.444444   \n",
      "1           ALB      339       ALB     1     2  ...  0.111111  0.444444   \n",
      "2           ALB      339       ALB     1     3  ...  0.000000  0.444444   \n",
      "3           ALB      339       ALB     1     4  ...  0.000000  0.333333   \n",
      "4           ALB      339       ALB     1     5  ...  0.000000  0.333333   \n",
      "\n",
      "      Y023C  Y024A  Y024B  Y024C  survself  tradrat5   TradAgg  SurvSAgg  \n",
      "0  0.444444   0.33    0.0  0.165 -1.011276  0.160847  0.158964 -1.792410  \n",
      "1  0.444444   0.33    0.0  0.165 -0.688773  0.409283  0.558946 -1.208679  \n",
      "2  0.444444   0.33    0.5  0.415       NaN       NaN       NaN       NaN  \n",
      "3  0.333333   0.33    0.0  0.165 -1.319863  0.733956  1.081669 -2.350952  \n",
      "4  0.333333   0.00    0.5  0.250       NaN       NaN       NaN       NaN  \n",
      "\n",
      "[5 rows x 1046 columns]\n"
     ]
    }
   ],
   "source": [
    "#Part 5: Adjusting dataset\n",
    "\n",
    "#Define variables to keep\n",
    "variables_to_keep = ['S020', 'A006', 'A008', 'A165', 'A168A', 'A170', 'A214', 'D001', 'E012', 'E046', 'E069_11', 'F034', 'F167', 'G006', 'G007_01', 'G007_18', 'G007_64', 'G255', 'X001', 'X003', 'Y011B', 'COUNTRY_ALPHA']\n",
    "\n",
    "#Select those columns from the data that match with the variables to keep\n",
    "data = data[variables_to_keep]\n",
    "\n",
    "#Rename variables for interpretability\n",
    "data = data.rename(columns = {'S020': 'year', 'A006': 'religion_importance', 'A008': 'happiness', 'A165': 'people_trustful', 'A168A': 'people_advantage', 'A170': 'life_satisfaction', 'A214': 'trusting', 'D001':'family_trust', 'E012': 'fight_for_country', 'E046': 'new_old_ideas', 'E069_11': 'confidence_government', 'F034': 'religious_person', 'F167': 'monarchy_islam', 'G006': 'proud_nationality', 'G007_01': 'trust_people_country', 'G007_18': 'trust_neigborhood', 'G007_64': 'trust_people_general', 'G255': 'feeling_close_town', 'X001': 'sex', 'X003': 'age', 'Y011B': 'national_pride', 'COUNTRY_ALPHA': 'country'})\n",
    "\n",
    "#Obtain the variable means by year and country\n",
    "data_means = data.groupby(['year', 'country']).mean()\n",
    "\n",
    "#Create new dataframe with only the country-year means\n",
    "data_individual = data\n",
    "data_means_df = pd.DataFrame(data_means)\n",
    "\n",
    "#Reset the index to make the country column available for manipulation\n",
    "data_means_df_reset = data_means_df.reset_index()\n",
    "\n",
    "#Change abbreviations to full country names\n",
    "#Create dictionary with mapping of the country abbreviations and full country names\n",
    "name_change = {'ALB': 'Albania', 'AND': 'Andorra', 'ARG': 'Argentina', 'ARM': 'Armenia', 'AUS': 'Australia', 'AZE': 'Azerbijan', 'BFA': 'Burkina Faso', 'BGD': 'Bangladesh', 'BGR': 'Bulgaria', \n",
    "               'BIH': 'Bosnia and Herzegovina','BLR': 'Belarus', 'BOL': 'Bolivia', 'BRA': 'Brazil', 'CAN': 'Canada', 'CHE': 'Switzerland', 'CHL': 'Chile', 'CHN': 'China', 'COL': 'Colombia', \n",
    "               'CYP': 'Cyprus', 'CZE': 'Czechia', 'DEU': 'Germany', 'DOM': 'Dominican Republic', 'DZA': 'Algeria', 'ECU': 'Ecuador', 'EGY': 'Egypt', 'ESP': 'Spain', 'EST': 'Estonia', 'ETH': \n",
    "               'Ethiopia', 'FIN': 'Finland', 'FRA': 'France', 'GBR': 'United Kingdom',  'GEO': 'Georgia', 'GHA': 'Ghana', 'GRC': 'Greece', 'GTM': 'Guatemala',  'HKG': 'Hong Kong',\n",
    "                 'HRV': 'Croatia', 'HTI': 'Haiti', 'HUN': 'Hungary', 'IDN': 'Indonesia', 'IND': 'India', 'IRN': 'Iran', 'IRQ': 'Iraq', 'ISR': 'Israel', 'ITA': 'Italy', 'JOR': 'Jordan', 'JPN': 'Japan', \n",
    "               'KAZ': 'Kazakhstan','KEN': 'Kenya', 'KGZ': 'Kyrgyzstan', 'KOR': 'South Korea', 'KWT': 'Kuwait', 'LBN': 'Lebanon', 'LBY': 'Libya', 'LTU': 'Lithuania', 'LVA': 'Latvia', 'MAC': 'Macau', \n",
    "               'MAR': 'Morocco', 'MDA': 'Moldova', 'MDV': 'Maldives', 'MEX': 'Mexico', 'MKD': 'North Macedonia', 'MLI': 'Mali', 'MMR': 'Myanmar', 'MNE': 'Montenegro', 'MNG': 'Mongolia', 'MYS': 'Malaysia', \n",
    "               'NGA': 'Nigeria', 'NIC': 'Nicaragua', 'NIR': 'North Ireland', 'NLD': 'Netherlands', 'NOR': 'Norway', 'NZL': 'New Zealand', 'PAK': 'Pakistan', 'PER': 'Peru', 'PHL': 'Philippines',\n",
    "               'POL': 'Poland', 'PRI': 'Puerto Rico', 'PSE': 'Palestine', 'QAT': 'Qatar', 'ROU': 'Romania', 'RUS': 'Russia', 'RWA': 'Rwanda', 'SAU': 'Saudi Arabia','SGP': 'Singapore', 'SLV': 'El Salvador', \n",
    "               'SRB': 'Serbia', 'SVK': 'Slovakia', 'SVN': 'Slovenia', 'SWE': 'Sweden', 'THA': 'Thailand', 'TJK': 'Tajikistan', 'TTO': 'Trinidad and Tobago', 'TUN': 'Tunesia', 'TUR': 'Turkiye', 'TWN': 'Taiwan',\n",
    "                 'TZA': 'Tanzania', 'UGA': 'Uganda', 'UKR': 'Ukraine', 'URY': 'Uruguay', 'USA': 'United States', 'UZB': 'Uzbekistan', 'VEN': 'Venezuela', 'VNM': 'Vietnam', 'YEM': 'Yemen', \n",
    "               'ZAF': 'South Africa', 'ZMB': 'Zambia','ZWE': 'Zimbabwe'}\n",
    "\n",
    "#Change country abbreviations to full country names\n",
    "data_means_df_reset['country'] = data_means_df_reset['country'].replace(name_change)\n"
   ]
  },
  {
   "cell_type": "code",
   "execution_count": null,
   "id": "67efd163-d81d-4e16-912d-87194d4989ef",
   "metadata": {},
   "outputs": [],
   "source": [
    "#Part 6: Download the new data\n",
    "df_final = data_means_df_reset\n",
    "\n",
    "from IPython.display import FileLink\n",
    "\n",
    "# Save the DataFrame as a CSV\n",
    "df_final.to_csv('WVS_adjusted.csv', index=False)\n",
    "\n",
    "# Create a download link\n",
    "FileLink('WVS_adjusted.csv')"
   ]
  }
 ],
 "metadata": {
  "kernelspec": {
   "display_name": "Python 3 (ipykernel)",
   "language": "python",
   "name": "python3"
  },
  "language_info": {
   "codemirror_mode": {
    "name": "ipython",
    "version": 3
   },
   "file_extension": ".py",
   "mimetype": "text/x-python",
   "name": "python",
   "nbconvert_exporter": "python",
   "pygments_lexer": "ipython3",
   "version": "3.11.7"
  }
 },
 "nbformat": 4,
 "nbformat_minor": 5
}
