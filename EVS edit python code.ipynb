{
 "cells": [
  {
   "cell_type": "code",
   "execution_count": 1,
   "id": "4f76e92a-a861-404c-9d91-23717faa161d",
   "metadata": {
    "editable": true,
    "slideshow": {
     "slide_type": ""
    },
    "tags": []
   },
   "outputs": [
    {
     "name": "stdout",
     "output_type": "stream",
     "text": [
      "Requirement already satisfied: pandas in c:\\users\\lenovo\\anaconda3\\lib\\site-packages (2.1.4)\n",
      "Requirement already satisfied: numpy in c:\\users\\lenovo\\anaconda3\\lib\\site-packages (1.26.4)\n",
      "Requirement already satisfied: python-dateutil>=2.8.2 in c:\\users\\lenovo\\anaconda3\\lib\\site-packages (from pandas) (2.8.2)\n",
      "Requirement already satisfied: pytz>=2020.1 in c:\\users\\lenovo\\anaconda3\\lib\\site-packages (from pandas) (2023.3.post1)\n",
      "Requirement already satisfied: tzdata>=2022.1 in c:\\users\\lenovo\\anaconda3\\lib\\site-packages (from pandas) (2023.3)\n",
      "Requirement already satisfied: six>=1.5 in c:\\users\\lenovo\\anaconda3\\lib\\site-packages (from python-dateutil>=2.8.2->pandas) (1.16.0)\n"
     ]
    }
   ],
   "source": [
    "##Part 1 Install libararies \n",
    "#Run the following line if any of the following libraries are not installed\n",
    "!pip install pandas numpy"
   ]
  },
  {
   "cell_type": "code",
   "execution_count": 2,
   "id": "ca74806b",
   "metadata": {},
   "outputs": [],
   "source": [
    "##Part 2: loading necessary packages\n",
    "import pandas as pd\n",
    "import numpy as np\n",
    "from IPython.display import FileLink"
   ]
  },
  {
   "cell_type": "code",
   "execution_count": null,
   "id": "13ed90da",
   "metadata": {},
   "outputs": [
    {
     "name": "stdout",
     "output_type": "stream",
     "text": [
      "   studyno             version                  doi  stdyno_w  \\\n",
      "0     7503  3.0.0 (2022-12-14)  doi:10.4232/1.14021      4800   \n",
      "1     7503  3.0.0 (2022-12-14)  doi:10.4232/1.14021      4800   \n",
      "2     7503  3.0.0 (2022-12-14)  doi:10.4232/1.14021      4800   \n",
      "3     7503  3.0.0 (2022-12-14)  doi:10.4232/1.14021      4800   \n",
      "4     7503  3.0.0 (2022-12-14)  doi:10.4232/1.14021      4800   \n",
      "\n",
      "              versn_w  S001  S002EVS  s002vs  S003  COW_NUM  ...  X048H_N1  \\\n",
      "0  5.0.0 (2022-06-08)     1        4       5     8      339  ...        -4   \n",
      "1  5.0.0 (2022-06-08)     1        4       5     8      339  ...        -4   \n",
      "2  5.0.0 (2022-06-08)     1        4       5     8      339  ...        -4   \n",
      "3  5.0.0 (2022-06-08)     1        4       5     8      339  ...        -4   \n",
      "4  5.0.0 (2022-06-08)     1        4       5     8      339  ...        -4   \n",
      "\n",
      "   X048I_N2  X049  x049a X049CS  X050  X051  X052  Y001  Y002  \n",
      "0        -4    -5      5     -4    -4    -4    -4    -4     2  \n",
      "1        -4    -5      5     -4    -4    -4    -4    -4     2  \n",
      "2        -4    -5      5     -4    -4    -4    -4    -4     2  \n",
      "3        -4    -5      5     -4    -4    -4    -4    -4     3  \n",
      "4        -4    -5      5     -4    -4    -4    -4    -4     2  \n",
      "\n",
      "[5 rows x 635 columns]\n"
     ]
    }
   ],
   "source": [
    "##Part 3: Loading the data from EVS and performing adjustments\n",
    "EVS = pd.read_stata(r\"C:\\Users\\Lenovo\\Downloads\\ZA7503_v3-0-0.dta\\ZA7503_v3-0-0.dta\", convert_categoricals=False)\n",
    "\n",
    "#Define variables to keep\n",
    "variables_to_keep_EVS = ['S020', 'A008', 'A165', 'G006', 'X001', 'X003', 'S009', 'S007', 'A170', 'X007', 'X028', 'A009', 'F063', 'X047_EVS']\n",
    "\n",
    "#Select those columns from the data that match with the variables to keep\n",
    "EVS_reduced = EVS[variables_to_keep_EVS]\n",
    "\n",
    "#Rename variables for interpretability\n",
    "EVS_reduced = EVS_reduced.rename(columns = {'S020': 'year', 'S009': 'country', 'A008': 'happiness', 'A165': 'people_trustful', 'X001': 'sex', 'X003': 'age', \n",
    "                                            'G006': 'proud_nationality', 'S007': 'respondent','A170': 'life_satisfaction', 'X007': 'marital_status', \n",
    "                                            'X028': 'employment_status', 'A009': 'health', 'F063': 'god_important', 'X047_EVS': 'income_class'})\n",
    "\n",
    "name_change_EVS = {'AL': 'Albania', 'AZ': 'Azerbaijan', 'AT': 'Austria', 'AM': 'Armenia', 'BE': 'Belgium', 'BA': 'Bosnia and Herzegovina', 'BG': 'Bulgaria',\n",
    "                'BY': 'Belarus', 'CA': 'Canada', 'HR': 'Croatia', 'CY': 'Cyprus', 'CY-TCC': 'Cyprus (Turkish Cypriot Community)', 'CZ': 'Czechia', \n",
    "                'DK': 'Denmark', 'EE': 'Estonia', 'FI': 'Finland', 'FR': 'France', 'GE': 'Georgia', 'DE': 'Germany', 'GR': 'Greece', 'HU': 'Hungary', \n",
    "                'IS': 'Iceland', 'IE': 'Ireland', 'IT': 'Italy', 'LV': 'Latvia', 'LT': 'Lithuania', 'LU': 'Luxembourg', 'MT': 'Malta', 'MD': 'Moldova', \n",
    "                'ME': 'Montenegro', 'NL': 'Netherlands', 'NO': 'Norway', 'PL': 'Poland', 'PT': 'Portugal', 'RO': 'Romania', 'RU': 'Russia', 'RS': 'Serbia', \n",
    "                'SK': 'Slovakia', 'SI': 'Slovenia', 'ES': 'Spain', 'SE': 'Sweden', 'CH': 'Switzerland', 'TR': 'Turkey', 'UA': 'Ukraine', \n",
    "                'MK': 'North Macedonia', 'GB-GBN': 'United Kingdom', 'US': 'United States', 'GB-NIR': 'United Kingdom', 'RS-KM': 'Kosovo'}\n",
    "\n",
    "#Change country abbreviations to full country names\n",
    "EVS_reduced['country'] = EVS_reduced['country'].replace(name_change_EVS)\n",
    "\n",
    "# Replace values lower than 0 with NaN for each variable in the list\n",
    "EVS_numeric = EVS_reduced.select_dtypes(include=['number'])\n",
    "for col in EVS_numeric.columns:\n",
    "    EVS_reduced[col] = EVS_reduced[col].apply(lambda x: np.nan if x < 0 else x)\n",
    "\n",
    "#Create dummy variables for full employed, unemployed and married or as if married\n",
    "EVS_reduced['full_employed'] = (EVS_reduced['employment_status'] == 1).astype(int)\n",
    "EVS_reduced['unemployed'] = (EVS_reduced['employment_status'] == 7).astype(int)\n",
    "EVS_reduced['marital_relationship'] = EVS_reduced['marital_status'].isin([1, 2]).astype(int)\n",
    "\n",
    "#Drop the region, marital_status and employment_status variables\n",
    "EVS_reduced = EVS_reduced.drop(['employment_status', 'marital_status'], axis=1)"
   ]
  },
  {
   "cell_type": "code",
   "execution_count": 20,
   "id": "3bcc88a5",
   "metadata": {},
   "outputs": [
    {
     "data": {
      "text/html": [
       "<a href='EVS_adjusted.csv' target='_blank'>EVS_adjusted.csv</a><br>"
      ],
      "text/plain": [
       "c:\\Users\\Lenovo\\Downloads\\EVS_adjusted.csv"
      ]
     },
     "execution_count": 20,
     "metadata": {},
     "output_type": "execute_result"
    }
   ],
   "source": [
    "##Part 4: Download the adjusted EVS data\n",
    "# Save the DataFrame as a CSV\n",
    "EVS_reduced.to_csv('EVS_adjusted.csv', index=False)\n",
    "\n",
    "# Create download link\n",
    "FileLink('EVS_adjusted.csv')"
   ]
  }
 ],
 "metadata": {
  "kernelspec": {
   "display_name": "base",
   "language": "python",
   "name": "python3"
  },
  "language_info": {
   "codemirror_mode": {
    "name": "ipython",
    "version": 3
   },
   "file_extension": ".py",
   "mimetype": "text/x-python",
   "name": "python",
   "nbconvert_exporter": "python",
   "pygments_lexer": "ipython3",
   "version": "3.11.7"
  }
 },
 "nbformat": 4,
 "nbformat_minor": 5
}
